{
  "nbformat": 4,
  "nbformat_minor": 0,
  "metadata": {
    "colab": {
      "provenance": [],
      "authorship_tag": "ABX9TyPrWiI4MTa/s79Z1glAhv5l",
      "include_colab_link": true
    },
    "kernelspec": {
      "name": "python3",
      "display_name": "Python 3"
    },
    "language_info": {
      "name": "python"
    }
  },
  "cells": [
    {
      "cell_type": "markdown",
      "metadata": {
        "id": "view-in-github",
        "colab_type": "text"
      },
      "source": [
        "<a href=\"https://colab.research.google.com/github/ysy202202256/python/blob/main/CNN_%EC%8B%A4%EC%8A%B5.ipynb\" target=\"_parent\"><img src=\"https://colab.research.google.com/assets/colab-badge.svg\" alt=\"Open In Colab\"/></a>"
      ]
    },
    {
      "cell_type": "code",
      "source": [
        "import tensorflow as tf\n",
        "import numpy as np\n",
        "import matplotlib.pyplot as plt\n",
        "from tensorflow.keras.models import Sequential\n",
        "from tensorflow.keras.callbacks import ModelCheckpoint, EarlyStopping\n",
        "from tensorflow.keras.layers import Dense, Flatten, Conv2D, MaxPooling2D, Input, Reshape, Dropout"
      ],
      "metadata": {
        "id": "dXHZvTajbJDU"
      },
      "execution_count": null,
      "outputs": []
    },
    {
      "cell_type": "code",
      "source": [
        "fashion_mnist = tf.keras.datasets.fashion_mnist\n",
        "\n",
        "(X_train, y_train), (X_test, y_test) = fashion_mnist.load_data()\n",
        "\n",
        "X_train = X_train/255.\n",
        "X_test = X_test/255."
      ],
      "metadata": {
        "id": "H81e2cIqbJFs",
        "colab": {
          "base_uri": "https://localhost:8080/"
        },
        "outputId": "ee06f307-925f-4abe-a9ab-284c3d6270cd"
      },
      "execution_count": null,
      "outputs": [
        {
          "output_type": "stream",
          "name": "stdout",
          "text": [
            "Downloading data from https://storage.googleapis.com/tensorflow/tf-keras-datasets/train-labels-idx1-ubyte.gz\n",
            "29515/29515 [==============================] - 0s 0us/step\n",
            "Downloading data from https://storage.googleapis.com/tensorflow/tf-keras-datasets/train-images-idx3-ubyte.gz\n",
            "26421880/26421880 [==============================] - 0s 0us/step\n",
            "Downloading data from https://storage.googleapis.com/tensorflow/tf-keras-datasets/t10k-labels-idx1-ubyte.gz\n",
            "5148/5148 [==============================] - 0s 0us/step\n",
            "Downloading data from https://storage.googleapis.com/tensorflow/tf-keras-datasets/t10k-images-idx3-ubyte.gz\n",
            "4422102/4422102 [==============================] - 0s 0us/step\n"
          ]
        }
      ]
    },
    {
      "cell_type": "code",
      "source": [
        "model = Sequential()\n",
        "model.add(Input((28,28)))\n",
        "model.add(Reshape((28,28,1)))\n",
        "model.add(Conv2D(32, (3, 3), padding='same'))\n",
        "model.add(MaxPooling2D((2, 2)))\n",
        "model.add(Conv2D(64, (3, 3), padding='same'))\n",
        "model.add(MaxPooling2D((2, 2)))\n",
        "model.add(Flatten())\n",
        "model.add(Dense(10, activation='relu'))\n",
        "model.add(Dense(10, activation='relu'))\n",
        "model.add(Dense(10, activation='softmax'))\n",
        "\n",
        "\n",
        "modelpath=\"./data/model/MNIST_CNN.hdf5\"\n",
        "\n",
        "checkpointer = ModelCheckpoint(filepath=modelpath, monitor='val_loss', verbose=1, save_best_only=True)\n",
        "early_stopping_callback = EarlyStopping(monitor='val_loss', patience=10)\n",
        "\n",
        "model.compile(loss='sparse_categorical_crossentropy', optimizer='adam', metrics=['accuracy'])\n",
        "history = model.fit(X_train, y_train, validation_split=0.25, epochs=30, verbose=0, batch_size=128, callbacks=[early_stopping_callback,checkpointer])\n",
        "\n",
        "\n",
        "print(\"\\n Test Accuracy : %.4f\" %model.evaluate(X_test, y_test)[1])\n",
        "\n",
        "\n",
        "y_vloss = history.history['val_loss']\n",
        "y_loss = history.history['loss']\n",
        "\n",
        "x_len = np.arange(len(y_loss))\n",
        "plt.plot(x_len, y_vloss, marker='.', c='red', label='Testset_loss')\n",
        "plt.plot(x_len, y_loss, marker='.', c='blue', label='Trainset_loss')\n",
        "\n",
        "plt.legend(loc='upper right')\n",
        "plt.grid()\n",
        "plt.xlabel('epoch')\n",
        "plt.ylabel('loss')\n",
        "plt.show()"
      ],
      "metadata": {
        "colab": {
          "base_uri": "https://localhost:8080/"
        },
        "id": "ffbG2c3mbJIE",
        "outputId": "b967ede4-14c7-4193-b1bc-5fd50da0050e"
      },
      "execution_count": null,
      "outputs": [
        {
          "output_type": "stream",
          "name": "stdout",
          "text": [
            "\n",
            "Epoch 1: val_loss improved from inf to 0.59925, saving model to ./data/model/MNIST_CNN.hdf5\n",
            "\n",
            "Epoch 2: val_loss improved from 0.59925 to 0.51638, saving model to ./data/model/MNIST_CNN.hdf5\n",
            "\n",
            "Epoch 3: val_loss improved from 0.51638 to 0.43230, saving model to ./data/model/MNIST_CNN.hdf5\n",
            "\n",
            "Epoch 4: val_loss improved from 0.43230 to 0.40199, saving model to ./data/model/MNIST_CNN.hdf5\n",
            "\n",
            "Epoch 5: val_loss improved from 0.40199 to 0.38196, saving model to ./data/model/MNIST_CNN.hdf5\n",
            "\n",
            "Epoch 6: val_loss improved from 0.38196 to 0.36065, saving model to ./data/model/MNIST_CNN.hdf5\n",
            "\n",
            "Epoch 7: val_loss improved from 0.36065 to 0.34194, saving model to ./data/model/MNIST_CNN.hdf5\n",
            "\n",
            "Epoch 8: val_loss did not improve from 0.34194\n",
            "\n",
            "Epoch 9: val_loss did not improve from 0.34194\n",
            "\n",
            "Epoch 10: val_loss improved from 0.34194 to 0.31365, saving model to ./data/model/MNIST_CNN.hdf5\n",
            "\n",
            "Epoch 11: val_loss improved from 0.31365 to 0.31339, saving model to ./data/model/MNIST_CNN.hdf5\n",
            "\n",
            "Epoch 12: val_loss improved from 0.31339 to 0.30446, saving model to ./data/model/MNIST_CNN.hdf5\n",
            "\n",
            "Epoch 13: val_loss did not improve from 0.30446\n",
            "\n",
            "Epoch 14: val_loss improved from 0.30446 to 0.30207, saving model to ./data/model/MNIST_CNN.hdf5\n",
            "\n",
            "Epoch 15: val_loss did not improve from 0.30207\n",
            "\n",
            "Epoch 16: val_loss improved from 0.30207 to 0.29726, saving model to ./data/model/MNIST_CNN.hdf5\n",
            "\n",
            "Epoch 17: val_loss improved from 0.29726 to 0.28431, saving model to ./data/model/MNIST_CNN.hdf5\n",
            "\n",
            "Epoch 18: val_loss improved from 0.28431 to 0.27898, saving model to ./data/model/MNIST_CNN.hdf5\n",
            "\n",
            "Epoch 19: val_loss did not improve from 0.27898\n",
            "\n",
            "Epoch 20: val_loss did not improve from 0.27898\n",
            "\n",
            "Epoch 21: val_loss did not improve from 0.27898\n",
            "\n",
            "Epoch 22: val_loss did not improve from 0.27898\n",
            "\n",
            "Epoch 23: val_loss did not improve from 0.27898\n",
            "\n",
            "Epoch 24: val_loss did not improve from 0.27898\n",
            "\n",
            "Epoch 25: val_loss did not improve from 0.27898\n",
            "\n",
            "Epoch 26: val_loss did not improve from 0.27898\n",
            "\n",
            "Epoch 27: val_loss did not improve from 0.27898\n",
            "\n",
            "Epoch 28: val_loss did not improve from 0.27898\n",
            "313/313 [==============================] - 3s 10ms/step - loss: 0.3208 - accuracy: 0.8958\n",
            "\n",
            " Test Accuracy : 0.8958\n"
          ]
        },
        {
          "output_type": "display_data",
          "data": {
            "text/plain": [
              "<Figure size 432x288 with 1 Axes>"
            ],
            "image/png": "[encoded data removed]"
          },
          "metadata": {
            "needs_background": "light"
          }
        }
      ]
    }
  ]
}