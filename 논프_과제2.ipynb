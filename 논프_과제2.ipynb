{
  "nbformat": 4,
  "nbformat_minor": 0,
  "metadata": {
    "colab": {
      "provenance": [],
      "collapsed_sections": [],
      "authorship_tag": "ABX9TyPTnQRpQ6rAS9oUgW/LuJuI",
      "include_colab_link": true
    },
    "kernelspec": {
      "name": "python3",
      "display_name": "Python 3"
    },
    "language_info": {
      "name": "python"
    }
  },
  "cells": [
    {
      "cell_type": "markdown",
      "metadata": {
        "id": "view-in-github",
        "colab_type": "text"
      },
      "source": [
        "<a href=\"https://colab.research.google.com/github/ysy202202256/python/blob/main/%EB%85%BC%ED%94%84_%EA%B3%BC%EC%A0%9C2.ipynb\" target=\"_parent\"><img src=\"https://colab.research.google.com/assets/colab-badge.svg\" alt=\"Open In Colab\"/></a>"
      ]
    },
    {
      "cell_type": "code",
      "source": [
        "a = int(input(\"자연수 한 개를 입력하세요:\"))\n",
        "b=[a]\n",
        "while True:\n",
        "  x = int(input(\"계속 입력을 원하시면, 자연수 한 개를 입력하시고, 아니라면 0을 입력하세요:\"))\n",
        "  if x==0:\n",
        "    break\n",
        "  elif x<0:\n",
        "    print(\"다시 입력하세요:\")\n",
        "  else:\n",
        "    b.append(x)\n",
        "    if len(b)>100:\n",
        "      print(\"이제 그만하세요. 벌써 100개를 입력했어요.\")\n",
        "      break\n",
        "\n",
        "for i in range(len(b)):\n",
        "  for j in range(1, len(b)-i):\n",
        "    if b[j-1]<=b[j]:\n",
        "      temp = b[j]\n",
        "      b[j]=b[j-1]\n",
        "      b[j-1]=temp\n",
        "\n",
        "print(\"\\n당신이 입력한 숫자를 큰 것부터 말한다면 아래와 같습니다.\")\n",
        "for i in range(len(b)-1):\n",
        "  print(b[i], end=\"\")\n",
        "  print(', ', end=\"\")\n",
        "print(b[-1])"
      ],
      "metadata": {
        "colab": {
          "base_uri": "https://localhost:8080/"
        },
        "id": "7ZrcLVhijNUI",
        "outputId": "323bd7d0-11db-4fd8-ed7b-043d0bf74782"
      },
      "execution_count": 1,
      "outputs": [
        {
          "output_type": "stream",
          "name": "stdout",
          "text": [
            "자연수 한 개를 입력하세요:1\n",
            "계속 입력을 원하시면, 자연수 한 개를 입력하시고, 아니라면 0을 입력하세요:2\n",
            "계속 입력을 원하시면, 자연수 한 개를 입력하시고, 아니라면 0을 입력하세요:3\n",
            "계속 입력을 원하시면, 자연수 한 개를 입력하시고, 아니라면 0을 입력하세요:4\n",
            "계속 입력을 원하시면, 자연수 한 개를 입력하시고, 아니라면 0을 입력하세요:5\n",
            "계속 입력을 원하시면, 자연수 한 개를 입력하시고, 아니라면 0을 입력하세요:6\n",
            "계속 입력을 원하시면, 자연수 한 개를 입력하시고, 아니라면 0을 입력하세요:7\n",
            "계속 입력을 원하시면, 자연수 한 개를 입력하시고, 아니라면 0을 입력하세요:8\n",
            "계속 입력을 원하시면, 자연수 한 개를 입력하시고, 아니라면 0을 입력하세요:9\n",
            "계속 입력을 원하시면, 자연수 한 개를 입력하시고, 아니라면 0을 입력하세요:10\n",
            "계속 입력을 원하시면, 자연수 한 개를 입력하시고, 아니라면 0을 입력하세요:0\n",
            "\n",
            "당신이 입력한 숫자를 큰 것부터 말한다면 아래와 같습니다.\n",
            "10, 9, 8, 7, 6, 5, 4, 3, 2, 1\n"
          ]
        }
      ]
    },
    {
      "cell_type": "code",
      "source": [
        " while True:\n",
        "  a = int(input(\"숫자를 입력해주세요:\"))\n",
        "  if a>30:\n",
        "    print('너무 많습니다. 다시 입력해주세요:')\n",
        "  else:\n",
        "    break\n",
        "\n",
        "i = 0\n",
        "while True:\n",
        "  i+=1\n",
        "  if i>a:\n",
        "    break\n",
        "  print('*'*(i-1), end='')\n",
        "  print(i)"
      ],
      "metadata": {
        "id": "ay3kArRUim-W",
        "colab": {
          "base_uri": "https://localhost:8080/"
        },
        "outputId": "50710378-43d1-48e9-c5cc-faf7d9e49cb3"
      },
      "execution_count": null,
      "outputs": [
        {
          "output_type": "stream",
          "name": "stdout",
          "text": [
            "숫자를 입력해주세요:6\n",
            "1\n",
            "*2\n",
            "**3\n",
            "***4\n",
            "****5\n",
            "*****6\n",
            "7\n"
          ]
        }
      ]
    }
  ]
}